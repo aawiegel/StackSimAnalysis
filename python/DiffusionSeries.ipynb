{
 "cells": [
  {
   "cell_type": "markdown",
   "metadata": {},
   "source": [
    "# Diffusion and Oxidant Concentration\n",
    "\n",
    "This plots the change in several different aerosol properties as a function of diffusion coefficient and oxidant concentration. The data is first loaded in and processed, and then panel plots of each condition are produced."
   ]
  },
  {
   "cell_type": "code",
   "execution_count": 11,
   "metadata": {
    "collapsed": false
   },
   "outputs": [],
   "source": [
    "import warnings\n",
    "warnings.filterwarnings('ignore')\n",
    "import urllib.request\n",
    "import shutil\n",
    "import os\n",
    "import zipfile\n",
    "\n",
    "import StackSim\n",
    "import numpy as np\n",
    "import pandas as pd\n",
    "from matplotlib import ticker\n",
    "import matplotlib.pyplot as plt\n",
    "import matplotlib.cm as cm\n",
    "import re\n",
    "\n",
    "\n",
    "diffusion = [\"D12\", \"D13\", \"D14\", \"D15\", \"D16\", \"D17\", \"D18\"]\n",
    "condition = [\"ft\", \"cfstr\", \"day\"]\n",
    "        "
   ]
  },
  {
   "cell_type": "code",
   "execution_count": 10,
   "metadata": {
    "collapsed": true
   },
   "outputs": [],
   "source": [
    "# Create subdirectory for data if it does not exist\n",
    "\n",
    "subdir = os.path.join(os.path.curdir, \"difdata\")\n",
    "\n",
    "if not os.path.isdir(subdir):\n",
    "    os.mkdir(subdir)\n",
    " \n",
    "\n",
    "# Unzip XML files (.zip file available at https://www.dropbox.com/s/r1wtd99b3xe2r40/diffusion%20series.zip?dl=0)\n",
    "\n",
    "with zipfile.ZipFile(\"diffusion series.zip\", \"r\") as zip_ref:\n",
    "    zip_ref.extractall(subdir)\n"
   ]
  },
  {
   "cell_type": "code",
   "execution_count": null,
   "metadata": {
    "collapsed": true
   },
   "outputs": [],
   "source": []
  }
 ],
 "metadata": {
  "kernelspec": {
   "display_name": "Python 3",
   "language": "python",
   "name": "python3"
  },
  "language_info": {
   "codemirror_mode": {
    "name": "ipython",
    "version": 3
   },
   "file_extension": ".py",
   "mimetype": "text/x-python",
   "name": "python",
   "nbconvert_exporter": "python",
   "pygments_lexer": "ipython3",
   "version": "3.6.0"
  }
 },
 "nbformat": 4,
 "nbformat_minor": 2
}
