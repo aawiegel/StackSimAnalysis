{
 "cells": [
  {
   "cell_type": "markdown",
   "metadata": {},
   "source": [
    "# Diffusion and Oxidant Concentration\n",
    "\n",
    "This plots the change in several different aerosol properties as a function of diffusion coefficient and oxidant concentration. The diffusion coefficient is increased by an order of magnitude for each model scenario. The number after D indicates the negative base 10 logarithm of the diffusion coefficient for that scenario. The oxidant concentration is indicated by the condition where ft corresponds to flow tube ($5.04 \\times 10^{10}$ molecules cm$^{-3}$), cfstr corresponds to continuous flow stir reactor ($5.04 \\times 10^{8}$ molecules cm$^{-3}$), and day corresponds to daytime conditions ($5 \\times 10^{6}$ molecules cm$^{-3}$). The data is first loaded in and processed, and then panel plots of each condition are produced. See Postprocesing.ipynb for a more detailed explanation of the data processing."
   ]
  },
  {
   "cell_type": "markdown",
   "metadata": {},
   "source": [
    "%%HTML \n",
    "<script>\n",
    "  function code_toggle() {\n",
    "    if (code_shown){\n",
    "      $('div.input').hide('500');\n",
    "      $('#toggleButton').val('Show Code')\n",
    "    } else {\n",
    "      $('div.input').show('500');\n",
    "      $('#toggleButton').val('Hide Code')\n",
    "    }\n",
    "    code_shown = !code_shown\n",
    "  }\n",
    "\n",
    "  $( document ).ready(function(){\n",
    "    code_shown=false;\n",
    "    $('div.input').hide()\n",
    "  });\n",
    "</script>\n",
    "<form action=\"javascript:code_toggle()\"><input type=\"submit\" id=\"toggleButton\" value=\"Show Code\"></form>"
   ]
  },
  {
   "cell_type": "code",
   "execution_count": 14,
   "metadata": {
    "collapsed": false
   },
   "outputs": [],
   "source": [
    "# Import modules\n",
    "\n",
    "import warnings\n",
    "warnings.filterwarnings('ignore')\n",
    "import os\n",
    "import zipfile\n",
    "\n",
    "import StackSim\n",
    "import numpy as np\n",
    "import pandas as pd\n",
    "from matplotlib import ticker\n",
    "import matplotlib.pyplot as plt\n",
    "import matplotlib.cm as cm\n",
    "import re\n",
    "\n"
   ]
  },
  {
   "cell_type": "code",
   "execution_count": 10,
   "metadata": {
    "collapsed": true
   },
   "outputs": [],
   "source": [
    "# Create subdirectory for data if it does not exist\n",
    "\n",
    "subdir = os.path.join(os.path.curdir, \"difdata\")\n",
    "\n",
    "if not os.path.isdir(subdir):\n",
    "    os.mkdir(subdir)\n",
    " \n",
    "\n",
    "# Unzip XML files (.zip file available on Github repository)\n",
    "\n",
    "with zipfile.ZipFile(\"diffusion series.zip\", \"r\") as zip_ref:\n",
    "    zip_ref.extractall(subdir)\n"
   ]
  },
  {
   "cell_type": "code",
   "execution_count": 17,
   "metadata": {
    "collapsed": false
   },
   "outputs": [],
   "source": [
    "\n",
    "diffusion = [\"D15\", \"D16\", \"D17\", \"D18\"]\n",
    "condition = [\"ft\", \"cfstr\", \"day\"]\n",
    "\n",
    "# Generate filename strings\n",
    "\n",
    "files = dict()\n",
    "\n",
    "for cond in condition:\n",
    "    for coefficient in diffusion:\n",
    "        filename = \"tri_\"+cond+\"_\"+coefficient+\".xml\"\n",
    "        files[cond+\"_\"+coefficient] = filename\n",
    "\n",
    "# Additional conditions for flow tube and CFSTR\n",
    "files[\"ft_D12\"] = \"tri_ft_D12.xml\"\n",
    "files[\"ft_D13\"] = \"tri_ft_D13.xml\"\n",
    "files[\"ft_D14\"] = \"tri_ft_D14.xml\"\n",
    "files[\"cfstr_D13\"] = \"tri_cfstr_D13.xml\"\n",
    "files[\"cfstr_D14\"] = \"tri_cfstr_D14.xml\"\n",
    "\n",
    "# create dictionary for reaction conditions\n",
    "conditions = {\"ft\" : (5.04E10, 60, \"seconds\"),\n",
    "             \"cfstr\" : (5.04E8, 10, \"hours\"),\n",
    "             \"day\" : (5E6, 7, \"days\")}"
   ]
  },
  {
   "cell_type": "code",
   "execution_count": 18,
   "metadata": {
    "collapsed": true
   },
   "outputs": [],
   "source": [
    "# Generate lists for finding weighting aggregate species from individual\n",
    "# functional group or carbon backbone species (See Postprocessing.ipynb for more details)\n",
    "\n",
    "carbon_min, carbon_max = 1, 30\n",
    "\n",
    "missing_carbon_no = [1, 30]\n",
    "\n",
    "# Create carbon-30 lumped species from each component\n",
    "\n",
    "carbon_no_dict = {\"nC30\" : [[\"C30\", 1], [\"C30_COOH\", 1], [\"C30_COOH_O\", 1], [\"C30_HOOCCOOH\", 1], [\"C30_O2\", 1], [\"C30_O\", 1]]}\n",
    "\n",
    "# Initialize list of lists\n",
    "\n",
    "carbon_list = [[\"nC30\", 30]]\n",
    "\n",
    "for i in range(carbon_min, carbon_max+1, 1):\n",
    "    if i in missing_carbon_no:\n",
    "        pass\n",
    "    else:\n",
    "        no_C = \"C\"+str(i)\n",
    "        \n",
    "        # Add entry to lumped carbon number dictionary\n",
    "        carbon_no_dict[\"n\"+no_C] = [[no_C, 1], [no_C+\"_O2\", 1], [no_C+\"_COOH\", 1], [no_C+\"_COOH_O\", 1], [no_C+\"_HOOCCOOH\", 1]]\n",
    "        \n",
    "        # Add entry to list of list for carbon number weighting\n",
    "        carbon_list.append([\"n\"+no_C, i])\n",
    "\n",
    "# Generate oxygen and hydrogen species weighting lists\n",
    "\n",
    "oxygen_list = [[\"OC_sec\", 1], [\"OCH_prim\", 1], [\"OHCH2_prim\", 1], [\"OHCH_sec\", 1],\n",
    "               [\"OC_alpha\", 1], [\"OHCH_alpha\", 1], [\"HO_OOC_prim\", 3],\n",
    "               [\"HOOCH2_prim\", 2], [\"HOOCH_alpha\", 2], [\"HOOCH_sec\", 2], [\"HOOC_prim\", 2]]\n",
    "\n",
    "hydrogen_list = [[\"CH3_prim\", 3], [\"CH3_prim_s\", 3], [\"CH2_sec\", 2], [\"CH2_alpha\", 2], \n",
    "                 [\"OCH_prim\", 1], [\"OHCH_sec\", 2], [\"OHCH2_prim\", 3], [\"OHCH_alpha\", 2],\n",
    "                 [\"HO_OOC_prim\", 1], [\"HOOCH2_prim\", 3], [\"HOOCH_alpha\", 2], [\"HOOCH_sec\", 2], [\"HOOC_prim\", 1]]\n",
    "\n",
    "# Generate mass weighting lists\n",
    "\n",
    "mass_list = [[\"carbon\", 12], [\"oxygen\", 16], [\"hydrogen\", 1]]\n",
    "\n",
    "mass_list_r = [[\"carbon_r\", 12], [\"oxygen_r\", 16], [\"hydrogen_r\", 1]]\n",
    "\n"
   ]
  },
  {
   "cell_type": "code",
   "execution_count": 21,
   "metadata": {
    "collapsed": false
   },
   "outputs": [],
   "source": [
    "# Load each condition and diffusion coefficient combination\n",
    "\n",
    "Scenarios = dict()\n",
    "\n",
    "for scenario in files.keys():\n",
    "    \n",
    "    # Load and process simulation data from simulation    \n",
    "    Scenarios[scenario] = StackSim.SimulationData(os.path.join(subdir, files[scenario]))\n",
    "    \n",
    "    # Calculate aggregate carbon species and radial correction\n",
    "    for carbon_no in carbon_no_dict.keys():\n",
    "        Scenarios[scenario].calcAggregateSpecies(carbon_no, carbon_no_dict[carbon_no])\n",
    "        Scenarios[scenario].calcRadialCorrection(carbon_no, reverse_axis=True)\n",
    "    \n",
    "\n",
    "    # Calculate each element and mass    \n",
    "    Scenarios[scenario].calcAggregateSpecies(\"carbon\", carbon_list)\n",
    "\n",
    "    Scenarios[scenario].calcAggregateSpecies(\"oxygen\", oxygen_list)\n",
    "\n",
    "    Scenarios[scenario].calcAggregateSpecies(\"hydrogen\", hydrogen_list)     \n",
    "    \n",
    "    Scenarios[scenario].calcAggregateSpecies(\"mass\", mass_list)\n",
    "    \n",
    "    # Calculate radial correction for each element and mass    \n",
    "    \n",
    "    Scenarios[scenario].calcRadialCorrection(\"mass\", reverse_axis=True)\n",
    "    Scenarios[scenario].calcRadialCorrection(\"oxygen\", reverse_axis=True)\n",
    "    Scenarios[scenario].calcRadialCorrection(\"carbon\", reverse_axis=True)\n",
    "    Scenarios[scenario].calcRadialCorrection(\"hydrogen\", reverse_axis=True)\n",
    "    \n",
    "    # Calculate radial correction for triacontane    \n",
    "    \n",
    "    Scenarios[scenario].calcRadialCorrection(\"Tri\", reverse_axis=True)\n",
    "    \n",
    "    # Calculate mass of aerosol    \n",
    "    \n",
    "    Scenarios[scenario].calcAggregateSpecies(\"mass_r\", mass_list_r)\n",
    "    \n",
    "    Scenarios[scenario].calcSpeciesRatio(\"O/C ratio\", \"oxygen_r\", \"carbon_r\")\n",
    "    Scenarios[scenario].calcSpeciesRatio(\"H/C ratio\", \"hydrogen_r\", \"carbon_r\")"
   ]
  },
  {
   "cell_type": "markdown",
   "metadata": {},
   "source": [
    "## Panel plots\n",
    "\n",
    "After processing the data, panel plots showing several different variables at different oxidant and diffusion coefficients are generated."
   ]
  },
  {
   "cell_type": "code",
   "execution_count": null,
   "metadata": {
    "collapsed": true
   },
   "outputs": [],
   "source": []
  }
 ],
 "metadata": {
  "kernelspec": {
   "display_name": "Python 3",
   "language": "python",
   "name": "python3"
  },
  "language_info": {
   "codemirror_mode": {
    "name": "ipython",
    "version": 3
   },
   "file_extension": ".py",
   "mimetype": "text/x-python",
   "name": "python",
   "nbconvert_exporter": "python",
   "pygments_lexer": "ipython3",
   "version": "3.6.0"
  }
 },
 "nbformat": 4,
 "nbformat_minor": 2
}
