{
 "cells": [
  {
   "cell_type": "markdown",
   "metadata": {},
   "source": [
    "# Brief Background on Aerosol\n",
    "\n",
    "Aerosol (sometimes called particulate matter) are more than just Aquanet! They are any kind of small, liquid or solid particles suspended in air. Types of aerosol include clouds, haze, pollen, dust, and smoke. In general, scientists care about aerosol because many types of aerosol (like smoke) are harmful when inhaled. Organic (meaning carbon-containing) aerosol, one such potentially harmful type of aerosol, are tiny balls of oil or wax suspended in air. They are produced from automobile exhaust (as part of smog) or the chemicals that trees and other plants emit. \n",
    "\n",
    "As these particles float through the air, oxidants from the surrounding gas can collide with the surface and cause chemical reactions. One important oxidant is the hydroxyl (OH) radical, which is produced from ground level ozone, water vapor, and UV light. After colliding with the surface of an aerosol, this highly reactive chemical can launch a series of chemical reactions throughout the aerosol. Because organic aerosol exist as both liquids and solids, though, how deeply oxidants and other reactive chemicals can penetrate into the aerosol can vary greatly. \n",
    "\n"
   ]
  },
  {
   "cell_type": "markdown",
   "metadata": {},
   "source": [
    "# Simulations and Data Analysis\n",
    "\n",
    "This notebook demonstrates the data processing of simulations (validated from experimental data) used to investigate the oxidation of organic aerosol. The oxidation of three different generic organic materials by OH radicals with different consistencies are investigated. In order from most liquid-like to most solid-like, the first has the consitency of chocolate syrup, the second has the consistency of peanut butter, and the third has the consistency of lard. In the more solid-like materials, chemicals within the aerosol move more slowly than more liquid-like aerosol.\n",
    "\n",
    "The spherical aerosol is represented as a stack of boxes as shown in the following figure: ![](sim_summary.png)\n",
    "\n",
    "Because of the change in geometry, the data have to be postprocessed so that the outer box is weighted more than the inner most box. In other words, each box is considered equivalent to a spherical \"layer\" within the the sphere.\n",
    "\n"
   ]
  },
  {
   "cell_type": "markdown",
   "metadata": {},
   "source": [
    "## Loading the data\n",
    "\n",
    "First, the simulation data are unzipped and put into a subdirectory. Then, they are parsed using minidom in the Python XML package. These data are then loaded into custom Python classes representing the simulation and each box/compartment. (See /python/StackSim.py for more details.)"
   ]
  },
  {
   "cell_type": "code",
   "execution_count": 1,
   "metadata": {
    "collapsed": false
   },
   "outputs": [],
   "source": [
    "# Contains classes for compartments and simulations\n",
    "import python.StackSim as StackSim\n",
    "\n",
    "# Load in python modules used in notebook\n",
    "import os\n",
    "import zipfile\n",
    "import numpy as np\n",
    "import pandas as pd\n",
    "import matplotlib as mpl\n",
    "import matplotlib.pyplot as plt\n",
    "from cycler import cycler\n",
    "\n",
    "\n"
   ]
  },
  {
   "cell_type": "code",
   "execution_count": 2,
   "metadata": {
    "collapsed": false
   },
   "outputs": [],
   "source": [
    "# Create system-independent subdirectory\n",
    "\n",
    "subdir = os.path.join(os.path.curdir, \"demodata\")\n",
    "\n",
    "# Unzip to subdirectory\n",
    "\n",
    "with zipfile.ZipFile(\"demodata.zip\", \"r\") as zip_ref:\n",
    "    zip_ref.extractall(subdir)\n",
    "    \n",
    "# Associate each simulation XML file to a string\n",
    "\n",
    "simulation_files = {\"Chocolate Syrup\" : \"tri_ft_D11.xml\", \n",
    "              \"Peanut Butter\" : \"tri_ft_D12.xml\",\n",
    "              \"Lard\" : \"tri_ft_D13.xml\"}"
   ]
  },
  {
   "cell_type": "code",
   "execution_count": 3,
   "metadata": {
    "collapsed": false
   },
   "outputs": [],
   "source": [
    "# Initialize dictionary for each simulation\n",
    "simulations = dict()\n",
    "\n",
    "# Generate simulation and comaprtment objects for each simulation\n",
    "for simulation, file in simulation_files.items():\n",
    "    # See StackSim.py for more details on how the file is processed\n",
    "    simulations[simulation] = StackSim.SimulationData(os.path.join(subdir, file))\n",
    "    "
   ]
  },
  {
   "cell_type": "markdown",
   "metadata": {},
   "source": [
    "## Data processing\n",
    "\n",
    "In these simulations, a linear hydrocarbon, triacontane (C<sub>30</sub>H<sub>62</sub>), is represented an independent set of two methyl groups (-CH<sub>3</sub>, three hydrogen atoms bonded to one carbon atom) and twenty eight methylene groups (-CH<sub>2</sub>-, two hydrogen atoms bonded to one carbon atom). Each of these groups can react or move around the aerosol independently from each other. New groups form as the aerosol react, such as ketone (-C=O-, a carbon atom in a double bond with oxygen) groups. In addition to the reactions of groups, each carbon backbone from C1 to C30 is considered an independent species. By representing the molecule as a collection of independent groups and carbon backbones, the number of species needed to describe the oxidation decreases from over 100,000 to just 350. \n",
    "\n",
    "Because we represented the system this way, we need to process the resulting data to obtain properties that are actually measured in aerosols from experiments or the atmosphere. One common measurement of organic aerosols is the oxygen-to-carbon (O/C) ratio. To find this from our simulation results, we multiply each group by the number of oxygen or carbon atoms and add them up. For example, we would multiply a ketone group (C=O) by one when finding the number of oxygen atoms and multiply a C24 group by 24 when finding the number of carbon atoms. A contour map of the O/C ratio is also created so we can explore where the aerosol is more oxidized.\n",
    "\n"
   ]
  },
  {
   "cell_type": "code",
   "execution_count": 4,
   "metadata": {
    "collapsed": true
   },
   "outputs": [],
   "source": [
    "# Generate lists for finding weighting aggregate species from individual\n",
    "# functional group or carbon backbone species\n",
    "\n",
    "carbon_min, carbon_max = 1, 30\n",
    "\n",
    "missing_carbon_no = [1, 30]\n",
    "\n",
    "# Create carbon-30 lumped species from each component\n",
    "\n",
    "carbon_no_dict = {\"nC30\" : [[\"C30\", 1], [\"C30_COOH\", 1], [\"C30_COOH_O\", 1], [\"C30_HOOCCOOH\", 1], [\"C30_O2\", 1], [\"C30_O\", 1]]}\n",
    "\n",
    "# Initialize list of lists\n",
    "\n",
    "carbon_list = [[\"nC30\", 30]]\n",
    "\n",
    "for i in range(carbon_min, carbon_max+1, 1):\n",
    "    if i in missing_carbon_no:\n",
    "        pass\n",
    "    else:\n",
    "        no_C = \"C\"+str(i)\n",
    "        \n",
    "        # Add entry to lumped carbon number dictionary\n",
    "        carbon_no_dict[\"n\"+no_C] = [[no_C, 1], [no_C+\"_O2\", 1], [no_C+\"_COOH\", 1], [no_C+\"_COOH_O\", 1], [no_C+\"_HOOCCOOH\", 1]]\n",
    "        \n",
    "        # Add entry to list of list for carbon number weighting\n",
    "        carbon_list.append([\"n\"+no_C, i])\n",
    "\n",
    "# Generate oxygen species weighting list\n",
    "\n",
    "oxygen_list = [[\"OC_sec\", 1], [\"OCH_prim\", 1], [\"OHCH2_prim\", 1], [\"OHCH_sec\", 1],\n",
    "               [\"OC_alpha\", 1], [\"OHCH_alpha\", 1], [\"HO_OOC_prim\", 3],\n",
    "               [\"HOOCH2_prim\", 2], [\"HOOCH_alpha\", 2], [\"HOOCH_sec\", 2], [\"HOOC_prim\", 2]]"
   ]
  },
  {
   "cell_type": "code",
   "execution_count": 5,
   "metadata": {
    "collapsed": false
   },
   "outputs": [
    {
     "name": "stderr",
     "output_type": "stream",
     "text": [
      "C:\\Users\\Aaron W\\git\\StackSimAnalysis\\python\\StackSim.py:413: RuntimeWarning: invalid value encountered in true_divide\n",
      "  self.species[name] = np.nan_to_num(self.species[species1]/self.species[species2])\n",
      "C:\\Users\\Aaron W\\git\\StackSimAnalysis\\python\\StackSim.py:413: RuntimeWarning: divide by zero encountered in true_divide\n",
      "  self.species[name] = np.nan_to_num(self.species[species1]/self.species[species2])\n"
     ]
    }
   ],
   "source": [
    "# Process data from each simulation to find O/C ratio\n",
    "\n",
    "for name, simulation in simulations.items():\n",
    "    \n",
    "    # Calculate aggregate carbon species and radial correction\n",
    "    for carbon_no in carbon_no_dict.keys():\n",
    "        simulation.calcAggregateSpecies(carbon_no, carbon_no_dict[carbon_no])\n",
    "        simulation.calcRadialCorrection(carbon_no, reverse_axis=True)\n",
    "\n",
    "    # Calculate each total of oxygen and carbon\n",
    "    simulation.calcAggregateSpecies(\"carbon\", carbon_list)\n",
    "\n",
    "    simulation.calcAggregateSpecies(\"oxygen\", oxygen_list)\n",
    "    \n",
    "    # Find radial correction for each species\n",
    "    \n",
    "    simulation.calcRadialCorrection(\"carbon\", reverse_axis=True)\n",
    "    \n",
    "    simulation.calcRadialCorrection(\"oxygen\", reverse_axis=True)\n",
    "    \n",
    "    # Find O/C ratio\n",
    "    simulation.calcSpeciesRatio(\"O/C ratio\", \"oxygen_r\", \"carbon_r\")\n",
    "    \n",
    "    # Create contour map of O/C ratio by interpolating over compartments\n",
    "    simulation.calcContourInterpolated(\"O/C ratio\", reverse_axis = True)\n"
   ]
  },
  {
   "cell_type": "markdown",
   "metadata": {},
   "source": [
    "## Simulation dataframes\n",
    "\n",
    "Finally, the data are loaded into pandas dataframes for easier manipulation and plotting later. Two data frames are created for each simulation. One contains the average O/C ratio as a function of time. The other contains the O/C ratio as a function of distance from the center of the particle and time. Other data from the simulations is usually stored in these data frames as well, such as the mass and volume."
   ]
  },
  {
   "cell_type": "code",
   "execution_count": 6,
   "metadata": {
    "collapsed": false
   },
   "outputs": [],
   "source": [
    "# Create empty data frame dictionaries for each simulation\n",
    "\n",
    "averages = dict()\n",
    "contours = dict()\n",
    "\n",
    "for name, simulation in simulations.items():\n",
    "    # Assign data to data frames\n",
    "    averages[name] = pd.DataFrame({\"Time (s)\" : simulation.time,\n",
    "                     \"O/C ratio\" : simulation.species[\"O/C ratio\"]})\n",
    "    # This is stored as a Panel when there is more than one contour map of interest\n",
    "    contours[name] = pd.DataFrame(data = simulation.species_contour[\"O/C ratio\"],\n",
    "                                 index = simulation.position_int, \n",
    "                                 columns = simulation.time)\n",
    "    \n"
   ]
  },
  {
   "cell_type": "markdown",
   "metadata": {},
   "source": [
    "## Data Visualization\n",
    "\n",
    "Finally, the data are visualized! We first create a plot showing how the O/C ratio increases as each material oxidizes with time. Then, we show contour maps of the internal distribution of oxidation."
   ]
  },
  {
   "cell_type": "code",
   "execution_count": 7,
   "metadata": {
    "collapsed": false
   },
   "outputs": [
    {
     "data": {
      "image/png": "[encoded data removed]",
      "text/plain": [
       "<matplotlib.figure.Figure at 0x1c3ab4ff048>"
      ]
     },
     "metadata": {},
     "output_type": "display_data"
    }
   ],
   "source": [
    "%matplotlib inline\n",
    "# Plot of average O/C ratio for each material.\n",
    "\n",
    "fig, ax = plt.subplots(1)\n",
    "\n",
    "averages[\"Chocolate Syrup\"].plot(x = \"Time (s)\", y = \"O/C ratio\", ax = ax, style = '-C7')\n",
    "averages[\"Peanut Butter\"].plot(x = \"Time (s)\", y = \"O/C ratio\", ax = ax, style = '--C5')\n",
    "averages[\"Lard\"].plot(x = \"Time (s)\", y = \"O/C ratio\", ax = ax, style = '-.C8')\n",
    "\n",
    "ax.set_ylabel(\"O/C ratio\")\n",
    "\n",
    "ax.legend([\"Chocolate Syrup\", \"Peanut Butter\", \"Lard\"])\n",
    "\n",
    "plt.show()"
   ]
  },
  {
   "cell_type": "code",
   "execution_count": null,
   "metadata": {
    "collapsed": true
   },
   "outputs": [],
   "source": []
  }
 ],
 "metadata": {
  "kernelspec": {
   "display_name": "Python 3",
   "language": "python",
   "name": "python3"
  },
  "language_info": {
   "codemirror_mode": {
    "name": "ipython",
    "version": 3
   },
   "file_extension": ".py",
   "mimetype": "text/x-python",
   "name": "python",
   "nbconvert_exporter": "python",
   "pygments_lexer": "ipython3",
   "version": "3.6.0"
  }
 },
 "nbformat": 4,
 "nbformat_minor": 2
}
